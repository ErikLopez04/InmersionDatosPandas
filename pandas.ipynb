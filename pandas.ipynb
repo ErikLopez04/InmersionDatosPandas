{
 "cells": [
  {
   "cell_type": "code",
   "execution_count": 3,
   "metadata": {},
   "outputs": [],
   "source": [
    "import pandas as pd"
   ]
  },
  {
   "cell_type": "code",
   "execution_count": 4,
   "metadata": {},
   "outputs": [
    {
     "data": {
      "text/html": [
       "<div>\n",
       "<style scoped>\n",
       "    .dataframe tbody tr th:only-of-type {\n",
       "        vertical-align: middle;\n",
       "    }\n",
       "\n",
       "    .dataframe tbody tr th {\n",
       "        vertical-align: top;\n",
       "    }\n",
       "\n",
       "    .dataframe thead th {\n",
       "        text-align: right;\n",
       "    }\n",
       "</style>\n",
       "<table border=\"1\" class=\"dataframe\">\n",
       "  <thead>\n",
       "    <tr style=\"text-align: right;\">\n",
       "      <th></th>\n",
       "      <th>Tipo</th>\n",
       "      <th>Descripcion</th>\n",
       "      <th>Habitaciones</th>\n",
       "      <th>Baños</th>\n",
       "      <th>Área</th>\n",
       "      <th>Barrio</th>\n",
       "      <th>UPZ</th>\n",
       "      <th>Valor</th>\n",
       "    </tr>\n",
       "  </thead>\n",
       "  <tbody>\n",
       "    <tr>\n",
       "      <th>0</th>\n",
       "      <td>Apartamento</td>\n",
       "      <td>Apartamento en venta en Zona Noroccidental</td>\n",
       "      <td>3</td>\n",
       "      <td>2</td>\n",
       "      <td>70</td>\n",
       "      <td>Zona Noroccidental</td>\n",
       "      <td>CHAPINERO: Pardo Rubio + Chapinero</td>\n",
       "      <td>$ 360.000.000</td>\n",
       "    </tr>\n",
       "    <tr>\n",
       "      <th>1</th>\n",
       "      <td>Casa</td>\n",
       "      <td>Casa en venta en Castilla</td>\n",
       "      <td>4</td>\n",
       "      <td>3</td>\n",
       "      <td>170</td>\n",
       "      <td>Castilla</td>\n",
       "      <td>KENNEDY: Castilla + Bavaria</td>\n",
       "      <td>$ 670.000.000</td>\n",
       "    </tr>\n",
       "    <tr>\n",
       "      <th>2</th>\n",
       "      <td>Apartamento</td>\n",
       "      <td>Apartamento en venta en Chico Reservado</td>\n",
       "      <td>3</td>\n",
       "      <td>3</td>\n",
       "      <td>144</td>\n",
       "      <td>Chico Reservado</td>\n",
       "      <td>CHAPINERO: Chicó Lago + El Refugio</td>\n",
       "      <td>$ 1.120.000.000</td>\n",
       "    </tr>\n",
       "    <tr>\n",
       "      <th>3</th>\n",
       "      <td>Apartamento</td>\n",
       "      <td>Apartamento en venta en Usaquén</td>\n",
       "      <td>3</td>\n",
       "      <td>2</td>\n",
       "      <td>154</td>\n",
       "      <td>Usaquén</td>\n",
       "      <td>Usaquén</td>\n",
       "      <td>$ 890.000.000</td>\n",
       "    </tr>\n",
       "    <tr>\n",
       "      <th>4</th>\n",
       "      <td>Apartamento</td>\n",
       "      <td>Apartamento en venta en Bella Suiza</td>\n",
       "      <td>2</td>\n",
       "      <td>3</td>\n",
       "      <td>128</td>\n",
       "      <td>Bella Suiza</td>\n",
       "      <td>USAQUÉN: Country Club + Santa Bárbara</td>\n",
       "      <td>$ 970.000.000</td>\n",
       "    </tr>\n",
       "    <tr>\n",
       "      <th>...</th>\n",
       "      <td>...</td>\n",
       "      <td>...</td>\n",
       "      <td>...</td>\n",
       "      <td>...</td>\n",
       "      <td>...</td>\n",
       "      <td>...</td>\n",
       "      <td>...</td>\n",
       "      <td>...</td>\n",
       "    </tr>\n",
       "    <tr>\n",
       "      <th>9515</th>\n",
       "      <td>Apartamento</td>\n",
       "      <td>Apartamento en venta en Kennedy</td>\n",
       "      <td>3</td>\n",
       "      <td>2</td>\n",
       "      <td>70</td>\n",
       "      <td>Kennedy</td>\n",
       "      <td>Kennedy Central</td>\n",
       "      <td>$ 290.000.000</td>\n",
       "    </tr>\n",
       "    <tr>\n",
       "      <th>9516</th>\n",
       "      <td>Apartamento</td>\n",
       "      <td>Apartamento en venta en Parque Central Bavaria</td>\n",
       "      <td>2</td>\n",
       "      <td>2</td>\n",
       "      <td>100</td>\n",
       "      <td>Parque Central Bavaria</td>\n",
       "      <td>SANTA FE: Las Nieves + Sagrado Corazón</td>\n",
       "      <td>$ 670.000.000</td>\n",
       "    </tr>\n",
       "    <tr>\n",
       "      <th>9517</th>\n",
       "      <td>Local</td>\n",
       "      <td>Local en venta en Restrepo</td>\n",
       "      <td>8</td>\n",
       "      <td>6</td>\n",
       "      <td>383</td>\n",
       "      <td>Restrepo</td>\n",
       "      <td>Restrepo</td>\n",
       "      <td>$ 900.000.000</td>\n",
       "    </tr>\n",
       "    <tr>\n",
       "      <th>9518</th>\n",
       "      <td>Casa</td>\n",
       "      <td>Casa en venta en Engativa</td>\n",
       "      <td>3</td>\n",
       "      <td>2</td>\n",
       "      <td>183</td>\n",
       "      <td>Engativa</td>\n",
       "      <td>Engativá</td>\n",
       "      <td>$ 335.000.000</td>\n",
       "    </tr>\n",
       "    <tr>\n",
       "      <th>9519</th>\n",
       "      <td>Apartamento</td>\n",
       "      <td>Apartamento en venta en Tintala</td>\n",
       "      <td>3</td>\n",
       "      <td>1</td>\n",
       "      <td>52</td>\n",
       "      <td>Tintala</td>\n",
       "      <td>Tintala</td>\n",
       "      <td>$ 144.990.000</td>\n",
       "    </tr>\n",
       "  </tbody>\n",
       "</table>\n",
       "<p>9520 rows × 8 columns</p>\n",
       "</div>"
      ],
      "text/plain": [
       "             Tipo                                     Descripcion  \\\n",
       "0     Apartamento      Apartamento en venta en Zona Noroccidental   \n",
       "1            Casa                       Casa en venta en Castilla   \n",
       "2     Apartamento         Apartamento en venta en Chico Reservado   \n",
       "3     Apartamento                 Apartamento en venta en Usaquén   \n",
       "4     Apartamento             Apartamento en venta en Bella Suiza   \n",
       "...           ...                                             ...   \n",
       "9515  Apartamento                 Apartamento en venta en Kennedy   \n",
       "9516  Apartamento  Apartamento en venta en Parque Central Bavaria   \n",
       "9517        Local                      Local en venta en Restrepo   \n",
       "9518         Casa                       Casa en venta en Engativa   \n",
       "9519  Apartamento                 Apartamento en venta en Tintala   \n",
       "\n",
       "      Habitaciones  Baños  Área                  Barrio  \\\n",
       "0                3      2    70      Zona Noroccidental   \n",
       "1                4      3   170                Castilla   \n",
       "2                3      3   144         Chico Reservado   \n",
       "3                3      2   154                 Usaquén   \n",
       "4                2      3   128             Bella Suiza   \n",
       "...            ...    ...   ...                     ...   \n",
       "9515             3      2    70                 Kennedy   \n",
       "9516             2      2   100  Parque Central Bavaria   \n",
       "9517             8      6   383                Restrepo   \n",
       "9518             3      2   183                Engativa   \n",
       "9519             3      1    52                 Tintala   \n",
       "\n",
       "                                         UPZ            Valor  \n",
       "0         CHAPINERO: Pardo Rubio + Chapinero    $ 360.000.000  \n",
       "1                KENNEDY: Castilla + Bavaria    $ 670.000.000  \n",
       "2         CHAPINERO: Chicó Lago + El Refugio  $ 1.120.000.000  \n",
       "3                                    Usaquén    $ 890.000.000  \n",
       "4      USAQUÉN: Country Club + Santa Bárbara    $ 970.000.000  \n",
       "...                                      ...              ...  \n",
       "9515                         Kennedy Central    $ 290.000.000  \n",
       "9516  SANTA FE: Las Nieves + Sagrado Corazón    $ 670.000.000  \n",
       "9517                                Restrepo    $ 900.000.000  \n",
       "9518                                Engativá    $ 335.000.000  \n",
       "9519                                 Tintala    $ 144.990.000  \n",
       "\n",
       "[9520 rows x 8 columns]"
      ]
     },
     "execution_count": 4,
     "metadata": {},
     "output_type": "execute_result"
    }
   ],
   "source": [
    "data = \"inmuebles_bogota.csv\"\n",
    "df = pd.read_csv(data)\n",
    "df"
   ]
  },
  {
   "cell_type": "code",
   "execution_count": 5,
   "metadata": {},
   "outputs": [
    {
     "data": {
      "text/plain": [
       "(9520, 8)"
      ]
     },
     "execution_count": 5,
     "metadata": {},
     "output_type": "execute_result"
    }
   ],
   "source": [
    "# Tamaño del dataset\n",
    "df.shape"
   ]
  },
  {
   "cell_type": "code",
   "execution_count": 6,
   "metadata": {},
   "outputs": [
    {
     "data": {
      "text/plain": [
       "Index(['Tipo', 'Descripcion', 'Habitaciones', 'Baños', 'Área', 'Barrio', 'UPZ',\n",
       "       'Valor'],\n",
       "      dtype='object')"
      ]
     },
     "execution_count": 6,
     "metadata": {},
     "output_type": "execute_result"
    }
   ],
   "source": [
    "# Muestra en un Diccionario las colmunas del dataset\n",
    "df.columns"
   ]
  },
  {
   "cell_type": "code",
   "execution_count": 7,
   "metadata": {},
   "outputs": [
    {
     "data": {
      "text/html": [
       "<div>\n",
       "<style scoped>\n",
       "    .dataframe tbody tr th:only-of-type {\n",
       "        vertical-align: middle;\n",
       "    }\n",
       "\n",
       "    .dataframe tbody tr th {\n",
       "        vertical-align: top;\n",
       "    }\n",
       "\n",
       "    .dataframe thead th {\n",
       "        text-align: right;\n",
       "    }\n",
       "</style>\n",
       "<table border=\"1\" class=\"dataframe\">\n",
       "  <thead>\n",
       "    <tr style=\"text-align: right;\">\n",
       "      <th></th>\n",
       "      <th>Tipo</th>\n",
       "      <th>Descripcion</th>\n",
       "      <th>Habitaciones</th>\n",
       "      <th>Banos</th>\n",
       "      <th>Area</th>\n",
       "      <th>Barrio</th>\n",
       "      <th>UPZ</th>\n",
       "      <th>Valor</th>\n",
       "    </tr>\n",
       "  </thead>\n",
       "  <tbody>\n",
       "    <tr>\n",
       "      <th>3396</th>\n",
       "      <td>Apartamento</td>\n",
       "      <td>Apartamento en venta en Chico Reservado</td>\n",
       "      <td>3</td>\n",
       "      <td>4</td>\n",
       "      <td>150</td>\n",
       "      <td>Chico Reservado</td>\n",
       "      <td>CHAPINERO: Chicó Lago + El Refugio</td>\n",
       "      <td>$ 900.000.000</td>\n",
       "    </tr>\n",
       "    <tr>\n",
       "      <th>6505</th>\n",
       "      <td>Apartamento</td>\n",
       "      <td>Apartamento en venta en El Batán</td>\n",
       "      <td>2</td>\n",
       "      <td>2</td>\n",
       "      <td>91</td>\n",
       "      <td>El Batán</td>\n",
       "      <td>La Alhambra</td>\n",
       "      <td>$ 490.000.000</td>\n",
       "    </tr>\n",
       "    <tr>\n",
       "      <th>351</th>\n",
       "      <td>Casa</td>\n",
       "      <td>Casa en venta en Engativa</td>\n",
       "      <td>3</td>\n",
       "      <td>2</td>\n",
       "      <td>66</td>\n",
       "      <td>Engativa</td>\n",
       "      <td>Engativá</td>\n",
       "      <td>$ 330.000.000</td>\n",
       "    </tr>\n",
       "    <tr>\n",
       "      <th>6901</th>\n",
       "      <td>Casa</td>\n",
       "      <td>Casa en venta en Suba</td>\n",
       "      <td>3</td>\n",
       "      <td>3</td>\n",
       "      <td>78</td>\n",
       "      <td>Suba</td>\n",
       "      <td>Suba</td>\n",
       "      <td>$ 400.000.000</td>\n",
       "    </tr>\n",
       "    <tr>\n",
       "      <th>5430</th>\n",
       "      <td>Apartamento</td>\n",
       "      <td>Apartamento en venta en Bosa</td>\n",
       "      <td>3</td>\n",
       "      <td>1</td>\n",
       "      <td>42</td>\n",
       "      <td>Bosa</td>\n",
       "      <td>Bosa Central</td>\n",
       "      <td>$ 131.000.000</td>\n",
       "    </tr>\n",
       "    <tr>\n",
       "      <th>5063</th>\n",
       "      <td>Casa</td>\n",
       "      <td>Casa en venta en Pontevedra</td>\n",
       "      <td>4</td>\n",
       "      <td>3</td>\n",
       "      <td>267</td>\n",
       "      <td>Pontevedra</td>\n",
       "      <td>La Floresta</td>\n",
       "      <td>$ 1.100.000.000</td>\n",
       "    </tr>\n",
       "    <tr>\n",
       "      <th>4514</th>\n",
       "      <td>Apartamento</td>\n",
       "      <td>Apartamento en venta en Suba</td>\n",
       "      <td>4</td>\n",
       "      <td>4</td>\n",
       "      <td>134</td>\n",
       "      <td>Suba</td>\n",
       "      <td>Suba</td>\n",
       "      <td>$ 630.000.000</td>\n",
       "    </tr>\n",
       "    <tr>\n",
       "      <th>3910</th>\n",
       "      <td>Apartamento</td>\n",
       "      <td>Apartamento en venta en Chapinero Central</td>\n",
       "      <td>2</td>\n",
       "      <td>2</td>\n",
       "      <td>76</td>\n",
       "      <td>Chapinero Central</td>\n",
       "      <td>Localidad Chapinero resto</td>\n",
       "      <td>$ 482.000.000</td>\n",
       "    </tr>\n",
       "    <tr>\n",
       "      <th>9004</th>\n",
       "      <td>Apartamento</td>\n",
       "      <td>Apartamento en venta en Chapinero</td>\n",
       "      <td>3</td>\n",
       "      <td>4</td>\n",
       "      <td>198</td>\n",
       "      <td>Chapinero</td>\n",
       "      <td>CHAPINERO: Pardo Rubio + Chapinero</td>\n",
       "      <td>$ 1.490.000.000</td>\n",
       "    </tr>\n",
       "    <tr>\n",
       "      <th>8070</th>\n",
       "      <td>Casa</td>\n",
       "      <td>Casa en venta en Puente Aranda</td>\n",
       "      <td>6</td>\n",
       "      <td>4</td>\n",
       "      <td>300</td>\n",
       "      <td>Puente Aranda</td>\n",
       "      <td>PUENTE ARANDA: Zona Industrial + Puente Aranda</td>\n",
       "      <td>$ 800.000.000</td>\n",
       "    </tr>\n",
       "  </tbody>\n",
       "</table>\n",
       "</div>"
      ],
      "text/plain": [
       "             Tipo                                Descripcion  Habitaciones  \\\n",
       "3396  Apartamento    Apartamento en venta en Chico Reservado             3   \n",
       "6505  Apartamento           Apartamento en venta en El Batán             2   \n",
       "351          Casa                  Casa en venta en Engativa             3   \n",
       "6901         Casa                      Casa en venta en Suba             3   \n",
       "5430  Apartamento               Apartamento en venta en Bosa             3   \n",
       "5063         Casa               Casa en venta en Pontevedra              4   \n",
       "4514  Apartamento               Apartamento en venta en Suba             4   \n",
       "3910  Apartamento  Apartamento en venta en Chapinero Central             2   \n",
       "9004  Apartamento          Apartamento en venta en Chapinero             3   \n",
       "8070         Casa             Casa en venta en Puente Aranda             6   \n",
       "\n",
       "      Banos  Area             Barrio  \\\n",
       "3396      4   150    Chico Reservado   \n",
       "6505      2    91           El Batán   \n",
       "351       2    66           Engativa   \n",
       "6901      3    78               Suba   \n",
       "5430      1    42               Bosa   \n",
       "5063      3   267        Pontevedra    \n",
       "4514      4   134               Suba   \n",
       "3910      2    76  Chapinero Central   \n",
       "9004      4   198          Chapinero   \n",
       "8070      4   300      Puente Aranda   \n",
       "\n",
       "                                                 UPZ            Valor  \n",
       "3396              CHAPINERO: Chicó Lago + El Refugio    $ 900.000.000  \n",
       "6505                                     La Alhambra    $ 490.000.000  \n",
       "351                                         Engativá    $ 330.000.000  \n",
       "6901                                            Suba    $ 400.000.000  \n",
       "5430                                    Bosa Central    $ 131.000.000  \n",
       "5063                                     La Floresta  $ 1.100.000.000  \n",
       "4514                                            Suba    $ 630.000.000  \n",
       "3910                       Localidad Chapinero resto    $ 482.000.000  \n",
       "9004              CHAPINERO: Pardo Rubio + Chapinero  $ 1.490.000.000  \n",
       "8070  PUENTE ARANDA: Zona Industrial + Puente Aranda    $ 800.000.000  "
      ]
     },
     "execution_count": 7,
     "metadata": {},
     "output_type": "execute_result"
    }
   ],
   "source": [
    "# Creamos un diccionario para cambiar los nombres de las variables para una mejor manipulación\n",
    "columnas = {'Baños':'Banos','Área':'Area'}\n",
    "df = df.rename(columns = columnas)\n",
    "\n",
    "# Mostrar 10 datos aleatorios\n",
    "df.sample(10)"
   ]
  },
  {
   "cell_type": "code",
   "execution_count": 8,
   "metadata": {},
   "outputs": [
    {
     "name": "stdout",
     "output_type": "stream",
     "text": [
      "<class 'pandas.core.frame.DataFrame'>\n",
      "RangeIndex: 9520 entries, 0 to 9519\n",
      "Data columns (total 8 columns):\n",
      " #   Column        Non-Null Count  Dtype \n",
      "---  ------        --------------  ----- \n",
      " 0   Tipo          9520 non-null   object\n",
      " 1   Descripcion   9520 non-null   object\n",
      " 2   Habitaciones  9520 non-null   int64 \n",
      " 3   Banos         9520 non-null   int64 \n",
      " 4   Area          9520 non-null   int64 \n",
      " 5   Barrio        9520 non-null   object\n",
      " 6   UPZ           9478 non-null   object\n",
      " 7   Valor         9520 non-null   object\n",
      "dtypes: int64(3), object(5)\n",
      "memory usage: 595.1+ KB\n"
     ]
    }
   ],
   "source": [
    "# Información general del Dataset\n",
    "df.info()"
   ]
  },
  {
   "cell_type": "code",
   "execution_count": 9,
   "metadata": {},
   "outputs": [
    {
     "data": {
      "text/plain": [
       "Tipo                                Apartamento\n",
       "Descripcion     Apartamento en venta en Kennedy\n",
       "Habitaciones                                  2\n",
       "Banos                                         1\n",
       "Area                                         42\n",
       "Barrio                                  Kennedy\n",
       "UPZ                             Kennedy Central\n",
       "Valor                             $ 116.100.000\n",
       "Name: 300, dtype: object"
      ]
     },
     "execution_count": 9,
     "metadata": {},
     "output_type": "execute_result"
    }
   ],
   "source": [
    "# Vizualizar una fila\n",
    "df.iloc[300]"
   ]
  },
  {
   "cell_type": "code",
   "execution_count": 10,
   "metadata": {},
   "outputs": [
    {
     "data": {
      "text/html": [
       "<div>\n",
       "<style scoped>\n",
       "    .dataframe tbody tr th:only-of-type {\n",
       "        vertical-align: middle;\n",
       "    }\n",
       "\n",
       "    .dataframe tbody tr th {\n",
       "        vertical-align: top;\n",
       "    }\n",
       "\n",
       "    .dataframe thead th {\n",
       "        text-align: right;\n",
       "    }\n",
       "</style>\n",
       "<table border=\"1\" class=\"dataframe\">\n",
       "  <thead>\n",
       "    <tr style=\"text-align: right;\">\n",
       "      <th></th>\n",
       "      <th>Tipo</th>\n",
       "      <th>Descripcion</th>\n",
       "      <th>Habitaciones</th>\n",
       "      <th>Banos</th>\n",
       "      <th>Area</th>\n",
       "      <th>Barrio</th>\n",
       "      <th>UPZ</th>\n",
       "      <th>Valor</th>\n",
       "    </tr>\n",
       "  </thead>\n",
       "  <tbody>\n",
       "    <tr>\n",
       "      <th>300</th>\n",
       "      <td>Apartamento</td>\n",
       "      <td>Apartamento en venta en Kennedy</td>\n",
       "      <td>2</td>\n",
       "      <td>1</td>\n",
       "      <td>42</td>\n",
       "      <td>Kennedy</td>\n",
       "      <td>Kennedy Central</td>\n",
       "      <td>$ 116.100.000</td>\n",
       "    </tr>\n",
       "    <tr>\n",
       "      <th>301</th>\n",
       "      <td>Apartamento</td>\n",
       "      <td>Apartamento en venta en Chico Norte</td>\n",
       "      <td>2</td>\n",
       "      <td>2</td>\n",
       "      <td>95</td>\n",
       "      <td>Chico Norte</td>\n",
       "      <td>CHAPINERO: Chicó Lago + El Refugio</td>\n",
       "      <td>$ 980.000.000</td>\n",
       "    </tr>\n",
       "    <tr>\n",
       "      <th>302</th>\n",
       "      <td>Apartamento</td>\n",
       "      <td>Apartamento en venta en Kennedy</td>\n",
       "      <td>3</td>\n",
       "      <td>2</td>\n",
       "      <td>54</td>\n",
       "      <td>Kennedy</td>\n",
       "      <td>Kennedy Central</td>\n",
       "      <td>$ 237.000.000</td>\n",
       "    </tr>\n",
       "    <tr>\n",
       "      <th>303</th>\n",
       "      <td>Apartamento</td>\n",
       "      <td>Apartamento en venta en Kennedy</td>\n",
       "      <td>3</td>\n",
       "      <td>2</td>\n",
       "      <td>67</td>\n",
       "      <td>Kennedy</td>\n",
       "      <td>Kennedy Central</td>\n",
       "      <td>$ 320.000.000</td>\n",
       "    </tr>\n",
       "    <tr>\n",
       "      <th>304</th>\n",
       "      <td>Apartamento</td>\n",
       "      <td>Apartamento en venta en Cedritos</td>\n",
       "      <td>4</td>\n",
       "      <td>4</td>\n",
       "      <td>132</td>\n",
       "      <td>Cedritos</td>\n",
       "      <td>Usaquén</td>\n",
       "      <td>$ 530.000.000</td>\n",
       "    </tr>\n",
       "  </tbody>\n",
       "</table>\n",
       "</div>"
      ],
      "text/plain": [
       "            Tipo                          Descripcion  Habitaciones  Banos  \\\n",
       "300  Apartamento      Apartamento en venta en Kennedy             2      1   \n",
       "301  Apartamento  Apartamento en venta en Chico Norte             2      2   \n",
       "302  Apartamento      Apartamento en venta en Kennedy             3      2   \n",
       "303  Apartamento      Apartamento en venta en Kennedy             3      2   \n",
       "304  Apartamento     Apartamento en venta en Cedritos             4      4   \n",
       "\n",
       "     Area       Barrio                                 UPZ          Valor  \n",
       "300    42      Kennedy                     Kennedy Central  $ 116.100.000  \n",
       "301    95  Chico Norte  CHAPINERO: Chicó Lago + El Refugio  $ 980.000.000  \n",
       "302    54      Kennedy                     Kennedy Central  $ 237.000.000  \n",
       "303    67      Kennedy                     Kennedy Central  $ 320.000.000  \n",
       "304   132     Cedritos                             Usaquén  $ 530.000.000  "
      ]
     },
     "execution_count": 10,
     "metadata": {},
     "output_type": "execute_result"
    }
   ],
   "source": [
    "# Devuelve un ranago de registros con slides notations(notación por trozos)\n",
    "df.iloc[300:305]"
   ]
  },
  {
   "cell_type": "code",
   "execution_count": 11,
   "metadata": {},
   "outputs": [
    {
     "data": {
      "text/plain": [
       "'$ 116.100.000'"
      ]
     },
     "execution_count": 11,
     "metadata": {},
     "output_type": "execute_result"
    }
   ],
   "source": [
    "df['Valor'][300]"
   ]
  },
  {
   "cell_type": "code",
   "execution_count": 12,
   "metadata": {},
   "outputs": [
    {
     "data": {
      "text/plain": [
       "300    $ 116.100.000\n",
       "301    $ 980.000.000\n",
       "302    $ 237.000.000\n",
       "303    $ 320.000.000\n",
       "304    $ 530.000.000\n",
       "Name: Valor, dtype: object"
      ]
     },
     "execution_count": 12,
     "metadata": {},
     "output_type": "execute_result"
    }
   ],
   "source": [
    "df['Valor'][300:305]"
   ]
  },
  {
   "cell_type": "code",
   "execution_count": 13,
   "metadata": {},
   "outputs": [
    {
     "data": {
      "text/plain": [
       "pandas.core.series.Series"
      ]
     },
     "execution_count": 13,
     "metadata": {},
     "output_type": "execute_result"
    }
   ],
   "source": [
    "type(df['Valor'][300:305])"
   ]
  },
  {
   "cell_type": "code",
   "execution_count": 14,
   "metadata": {},
   "outputs": [
    {
     "data": {
      "text/plain": [
       "146.66470588235293"
      ]
     },
     "execution_count": 14,
     "metadata": {},
     "output_type": "execute_result"
    }
   ],
   "source": [
    "# Promedio de área de todos los datos\n",
    "df.Area.mean()"
   ]
  },
  {
   "cell_type": "code",
   "execution_count": 15,
   "metadata": {},
   "outputs": [
    {
     "data": {
      "text/plain": [
       "225"
      ]
     },
     "execution_count": 15,
     "metadata": {},
     "output_type": "execute_result"
    }
   ],
   "source": [
    "# SUma para saber cuantos inmuebles hay en el barrio Chico Reservado\n",
    "sum((df.Barrio =='Chico Reservado'))"
   ]
  },
  {
   "cell_type": "code",
   "execution_count": 16,
   "metadata": {},
   "outputs": [
    {
     "data": {
      "text/plain": [
       "pandas.core.series.Series"
      ]
     },
     "execution_count": 16,
     "metadata": {},
     "output_type": "execute_result"
    }
   ],
   "source": [
    "inmuebles_chico = (df.Barrio =='Chico Reservado')\n",
    "type(inmuebles_chico)"
   ]
  },
  {
   "cell_type": "code",
   "execution_count": 17,
   "metadata": {},
   "outputs": [
    {
     "data": {
      "text/html": [
       "<div>\n",
       "<style scoped>\n",
       "    .dataframe tbody tr th:only-of-type {\n",
       "        vertical-align: middle;\n",
       "    }\n",
       "\n",
       "    .dataframe tbody tr th {\n",
       "        vertical-align: top;\n",
       "    }\n",
       "\n",
       "    .dataframe thead th {\n",
       "        text-align: right;\n",
       "    }\n",
       "</style>\n",
       "<table border=\"1\" class=\"dataframe\">\n",
       "  <thead>\n",
       "    <tr style=\"text-align: right;\">\n",
       "      <th></th>\n",
       "      <th>Tipo</th>\n",
       "      <th>Descripcion</th>\n",
       "      <th>Habitaciones</th>\n",
       "      <th>Banos</th>\n",
       "      <th>Area</th>\n",
       "      <th>Barrio</th>\n",
       "      <th>UPZ</th>\n",
       "      <th>Valor</th>\n",
       "    </tr>\n",
       "  </thead>\n",
       "  <tbody>\n",
       "    <tr>\n",
       "      <th>2</th>\n",
       "      <td>Apartamento</td>\n",
       "      <td>Apartamento en venta en Chico Reservado</td>\n",
       "      <td>3</td>\n",
       "      <td>3</td>\n",
       "      <td>144</td>\n",
       "      <td>Chico Reservado</td>\n",
       "      <td>CHAPINERO: Chicó Lago + El Refugio</td>\n",
       "      <td>$ 1.120.000.000</td>\n",
       "    </tr>\n",
       "    <tr>\n",
       "      <th>39</th>\n",
       "      <td>Apartamento</td>\n",
       "      <td>Apartamento en venta en Chico Reservado</td>\n",
       "      <td>1</td>\n",
       "      <td>1</td>\n",
       "      <td>64</td>\n",
       "      <td>Chico Reservado</td>\n",
       "      <td>CHAPINERO: Chicó Lago + El Refugio</td>\n",
       "      <td>$ 495.000.000</td>\n",
       "    </tr>\n",
       "    <tr>\n",
       "      <th>72</th>\n",
       "      <td>Apartamento</td>\n",
       "      <td>Apartamento en venta en Chico Reservado</td>\n",
       "      <td>1</td>\n",
       "      <td>1</td>\n",
       "      <td>64</td>\n",
       "      <td>Chico Reservado</td>\n",
       "      <td>CHAPINERO: Chicó Lago + El Refugio</td>\n",
       "      <td>$ 495.000.000</td>\n",
       "    </tr>\n",
       "    <tr>\n",
       "      <th>126</th>\n",
       "      <td>Apartamento</td>\n",
       "      <td>Apartamento en venta en Chico Reservado</td>\n",
       "      <td>3</td>\n",
       "      <td>4</td>\n",
       "      <td>150</td>\n",
       "      <td>Chico Reservado</td>\n",
       "      <td>CHAPINERO: Chicó Lago + El Refugio</td>\n",
       "      <td>$ 1.300.000.000</td>\n",
       "    </tr>\n",
       "    <tr>\n",
       "      <th>143</th>\n",
       "      <td>Apartamento</td>\n",
       "      <td>Apartamento en venta en Chico Reservado</td>\n",
       "      <td>2</td>\n",
       "      <td>4</td>\n",
       "      <td>104</td>\n",
       "      <td>Chico Reservado</td>\n",
       "      <td>CHAPINERO: Chicó Lago + El Refugio</td>\n",
       "      <td>$ 1.100.000.000</td>\n",
       "    </tr>\n",
       "    <tr>\n",
       "      <th>...</th>\n",
       "      <td>...</td>\n",
       "      <td>...</td>\n",
       "      <td>...</td>\n",
       "      <td>...</td>\n",
       "      <td>...</td>\n",
       "      <td>...</td>\n",
       "      <td>...</td>\n",
       "      <td>...</td>\n",
       "    </tr>\n",
       "    <tr>\n",
       "      <th>9299</th>\n",
       "      <td>Apartamento</td>\n",
       "      <td>Apartamento en venta en Chico Reservado</td>\n",
       "      <td>3</td>\n",
       "      <td>3</td>\n",
       "      <td>148</td>\n",
       "      <td>Chico Reservado</td>\n",
       "      <td>CHAPINERO: Chicó Lago + El Refugio</td>\n",
       "      <td>$ 780.000.000</td>\n",
       "    </tr>\n",
       "    <tr>\n",
       "      <th>9335</th>\n",
       "      <td>Apartamento</td>\n",
       "      <td>Apartamento en venta en Chico Reservado</td>\n",
       "      <td>3</td>\n",
       "      <td>3</td>\n",
       "      <td>176</td>\n",
       "      <td>Chico Reservado</td>\n",
       "      <td>CHAPINERO: Chicó Lago + El Refugio</td>\n",
       "      <td>$ 850.000.000</td>\n",
       "    </tr>\n",
       "    <tr>\n",
       "      <th>9341</th>\n",
       "      <td>Apartamento</td>\n",
       "      <td>Apartamento en venta en Chico Reservado</td>\n",
       "      <td>2</td>\n",
       "      <td>3</td>\n",
       "      <td>118</td>\n",
       "      <td>Chico Reservado</td>\n",
       "      <td>CHAPINERO: Chicó Lago + El Refugio</td>\n",
       "      <td>$ 700.000.000</td>\n",
       "    </tr>\n",
       "    <tr>\n",
       "      <th>9472</th>\n",
       "      <td>Apartamento</td>\n",
       "      <td>Apartamento en venta en Chico Reservado</td>\n",
       "      <td>3</td>\n",
       "      <td>1</td>\n",
       "      <td>49</td>\n",
       "      <td>Chico Reservado</td>\n",
       "      <td>CHAPINERO: Chicó Lago + El Refugio</td>\n",
       "      <td>$ 200.000.000</td>\n",
       "    </tr>\n",
       "    <tr>\n",
       "      <th>9506</th>\n",
       "      <td>Apartamento</td>\n",
       "      <td>Apartamento en venta en Chico Reservado</td>\n",
       "      <td>3</td>\n",
       "      <td>4</td>\n",
       "      <td>390</td>\n",
       "      <td>Chico Reservado</td>\n",
       "      <td>CHAPINERO: Chicó Lago + El Refugio</td>\n",
       "      <td>$ 3.200.000.000</td>\n",
       "    </tr>\n",
       "  </tbody>\n",
       "</table>\n",
       "<p>225 rows × 8 columns</p>\n",
       "</div>"
      ],
      "text/plain": [
       "             Tipo                              Descripcion  Habitaciones  \\\n",
       "2     Apartamento  Apartamento en venta en Chico Reservado             3   \n",
       "39    Apartamento  Apartamento en venta en Chico Reservado             1   \n",
       "72    Apartamento  Apartamento en venta en Chico Reservado             1   \n",
       "126   Apartamento  Apartamento en venta en Chico Reservado             3   \n",
       "143   Apartamento  Apartamento en venta en Chico Reservado             2   \n",
       "...           ...                                      ...           ...   \n",
       "9299  Apartamento  Apartamento en venta en Chico Reservado             3   \n",
       "9335  Apartamento  Apartamento en venta en Chico Reservado             3   \n",
       "9341  Apartamento  Apartamento en venta en Chico Reservado             2   \n",
       "9472  Apartamento  Apartamento en venta en Chico Reservado             3   \n",
       "9506  Apartamento  Apartamento en venta en Chico Reservado             3   \n",
       "\n",
       "      Banos  Area           Barrio                                 UPZ  \\\n",
       "2         3   144  Chico Reservado  CHAPINERO: Chicó Lago + El Refugio   \n",
       "39        1    64  Chico Reservado  CHAPINERO: Chicó Lago + El Refugio   \n",
       "72        1    64  Chico Reservado  CHAPINERO: Chicó Lago + El Refugio   \n",
       "126       4   150  Chico Reservado  CHAPINERO: Chicó Lago + El Refugio   \n",
       "143       4   104  Chico Reservado  CHAPINERO: Chicó Lago + El Refugio   \n",
       "...     ...   ...              ...                                 ...   \n",
       "9299      3   148  Chico Reservado  CHAPINERO: Chicó Lago + El Refugio   \n",
       "9335      3   176  Chico Reservado  CHAPINERO: Chicó Lago + El Refugio   \n",
       "9341      3   118  Chico Reservado  CHAPINERO: Chicó Lago + El Refugio   \n",
       "9472      1    49  Chico Reservado  CHAPINERO: Chicó Lago + El Refugio   \n",
       "9506      4   390  Chico Reservado  CHAPINERO: Chicó Lago + El Refugio   \n",
       "\n",
       "                Valor  \n",
       "2     $ 1.120.000.000  \n",
       "39      $ 495.000.000  \n",
       "72      $ 495.000.000  \n",
       "126   $ 1.300.000.000  \n",
       "143   $ 1.100.000.000  \n",
       "...               ...  \n",
       "9299    $ 780.000.000  \n",
       "9335    $ 850.000.000  \n",
       "9341    $ 700.000.000  \n",
       "9472    $ 200.000.000  \n",
       "9506  $ 3.200.000.000  \n",
       "\n",
       "[225 rows x 8 columns]"
      ]
     },
     "execution_count": 17,
     "metadata": {},
     "output_type": "execute_result"
    }
   ],
   "source": [
    "chico_reservado = df[inmuebles_chico]\n",
    "chico_reservado"
   ]
  },
  {
   "cell_type": "code",
   "execution_count": 18,
   "metadata": {},
   "outputs": [
    {
     "data": {
      "text/plain": [
       "142.78666666666666"
      ]
     },
     "execution_count": 18,
     "metadata": {},
     "output_type": "execute_result"
    }
   ],
   "source": [
    "chico_reservado.Area.mean()"
   ]
  },
  {
   "cell_type": "code",
   "execution_count": 19,
   "metadata": {},
   "outputs": [
    {
     "data": {
      "text/plain": [
       "149"
      ]
     },
     "execution_count": 19,
     "metadata": {},
     "output_type": "execute_result"
    }
   ],
   "source": [
    "len(df.Barrio.value_counts())"
   ]
  },
  {
   "cell_type": "code",
   "execution_count": 20,
   "metadata": {},
   "outputs": [
    {
     "data": {
      "text/plain": [
       "Usaquén               1105\n",
       "Zona Noroccidental     877\n",
       "Bosa                   589\n",
       "Kennedy                589\n",
       "Cedritos               554\n",
       "                      ... \n",
       "Colinas De Suba          1\n",
       "La Estanzuela            1\n",
       "Roma                     1\n",
       "Alameda                  1\n",
       "Prado Veraniego          1\n",
       "Name: Barrio, Length: 149, dtype: int64"
      ]
     },
     "execution_count": 20,
     "metadata": {},
     "output_type": "execute_result"
    }
   ],
   "source": [
    "# Conteo de inmuebles por barrio\n",
    "df.Barrio.value_counts()"
   ]
  },
  {
   "cell_type": "code",
   "execution_count": 21,
   "metadata": {},
   "outputs": [
    {
     "data": {
      "text/plain": [
       "Usaquén                                  1681\n",
       "CHAPINERO: Pardo Rubio + Chapinero       1274\n",
       "USAQUÉN: Country Club + Santa Bárbara     771\n",
       "Bosa Central                              591\n",
       "Kennedy Central                           589\n",
       "                                         ... \n",
       "Localidad Usme resto                        2\n",
       "Las Cruces                                  2\n",
       "La Macarena                                 1\n",
       "Fontibón San Pablo                          1\n",
       "Zona Franca                                 1\n",
       "Name: UPZ, Length: 63, dtype: int64"
      ]
     },
     "execution_count": 21,
     "metadata": {},
     "output_type": "execute_result"
    }
   ],
   "source": [
    "# Número de inmuebles por UPZ\n",
    "df.UPZ.value_counts()"
   ]
  },
  {
   "cell_type": "code",
   "execution_count": 22,
   "metadata": {},
   "outputs": [
    {
     "data": {
      "text/plain": [
       "<AxesSubplot:>"
      ]
     },
     "execution_count": 22,
     "metadata": {},
     "output_type": "execute_result"
    },
    {
     "data": {
      "image/png": "[encoded data removed]",
      "text/plain": [
       "<Figure size 432x288 with 1 Axes>"
      ]
     },
     "metadata": {
      "needs_background": "light"
     },
     "output_type": "display_data"
    }
   ],
   "source": [
    "inmuebles_barrio = df.Barrio.value_counts()\n",
    "inmuebles_barrio.plot.bar()"
   ]
  },
  {
   "cell_type": "code",
   "execution_count": 23,
   "metadata": {},
   "outputs": [
    {
     "data": {
      "text/plain": [
       "<AxesSubplot:>"
      ]
     },
     "execution_count": 23,
     "metadata": {},
     "output_type": "execute_result"
    },
    {
     "data": {
      "image/png": "[encoded data removed]",
      "text/plain": [
       "<Figure size 432x288 with 1 Axes>"
      ]
     },
     "metadata": {
      "needs_background": "light"
     },
     "output_type": "display_data"
    }
   ],
   "source": [
    "inmuebles_barrio.head(10).plot.bar()"
   ]
  },
  {
   "cell_type": "markdown",
   "metadata": {},
   "source": [
    "# **DESAFIOS**\n",
    "1. Promedio de área de todos los inmuebles en los barrios en el dataset.  Grafico Top 10\n",
    "\n",
    "2. Consultar otros datos estadísticos, conteo, mediana, valores minimos y maximos."
   ]
  },
  {
   "cell_type": "code",
   "execution_count": 24,
   "metadata": {},
   "outputs": [
    {
     "data": {
      "text/plain": [
       "Usaquén               1105\n",
       "Zona Noroccidental     877\n",
       "Bosa                   589\n",
       "Kennedy                589\n",
       "Cedritos               554\n",
       "                      ... \n",
       "Colinas De Suba          1\n",
       "La Estanzuela            1\n",
       "Roma                     1\n",
       "Alameda                  1\n",
       "Prado Veraniego          1\n",
       "Name: Barrio, Length: 149, dtype: int64"
      ]
     },
     "execution_count": 24,
     "metadata": {},
     "output_type": "execute_result"
    }
   ],
   "source": [
    "df.Barrio.value_counts()"
   ]
  },
  {
   "cell_type": "code",
   "execution_count": 26,
   "metadata": {},
   "outputs": [
    {
     "name": "stdout",
     "output_type": "stream",
     "text": [
      "El promedio de área en el barrio Zona Noroccidental es: 135.78563283922463\n",
      "El promedio de área en el barrio Castilla es: 119.8\n",
      "El promedio de área en el barrio Chico Reservado es: 142.78666666666666\n",
      "El promedio de área en el barrio Usaquén es: 134.04615384615386\n",
      "El promedio de área en el barrio Bella Suiza es: 119.06796116504854\n",
      "El promedio de área en el barrio El Chicó es: 182.1917808219178\n",
      "El promedio de área en el barrio Tintala es: 61.4375\n",
      "El promedio de área en el barrio Marly es: 140.88888888888889\n",
      "El promedio de área en el barrio Kennedy es: 104.37181663837012\n",
      "El promedio de área en el barrio Nicolas De Federman es: 126.67567567567568\n",
      "El promedio de área en el barrio La Calleja es: 139.06493506493507\n",
      "El promedio de área en el barrio Mazuren es: 116.40259740259741\n",
      "El promedio de área en el barrio Suba es: 139.08577878103839\n",
      "El promedio de área en el barrio Barrios Unidos es: 185.6215644820296\n",
      "El promedio de área en el barrio Engativa es: 129.45454545454547\n",
      "El promedio de área en el barrio Fontibón es: 94.0111111111111\n",
      "El promedio de área en el barrio Villa Alsacia es: 69.48571428571428\n",
      "El promedio de área en el barrio Palermo es: 189.73333333333332\n",
      "El promedio de área en el barrio La Candelaria es: 173.71875\n",
      "El promedio de área en el barrio El Contador es: 123.24\n",
      "El promedio de área en el barrio El Batán es: 106.65413533834587\n",
      "El promedio de área en el barrio Santa Barbara es: 124.86986301369863\n",
      "El promedio de área en el barrio Mirandela  es: 84.78947368421052\n",
      "El promedio de área en el barrio Cedritos es: 96.95126353790614\n",
      "El promedio de área en el barrio Colina Campestre es: 94.475\n",
      "El promedio de área en el barrio Hayuelos es: 68.17857142857143\n",
      "El promedio de área en el barrio Ciudad Salitre es: 111.03333333333333\n",
      "El promedio de área en el barrio Quinta Paredes es: 121.88461538461539\n",
      "El promedio de área en el barrio Candelaria La Nueva es: 64.0\n",
      "El promedio de área en el barrio Chico Norte es: 129.75\n",
      "El promedio de área en el barrio Normandia es: 168.30769230769232\n",
      "El promedio de área en el barrio Ciudad Bolívar es: 71.75\n",
      "El promedio de área en el barrio Bosa es: 59.217317487266556\n",
      "El promedio de área en el barrio Rafael Uribe Uribe es: 170.35294117647058\n",
      "El promedio de área en el barrio Las Villas es: 228.88888888888889\n",
      "El promedio de área en el barrio Modelia es: 4316.75\n",
      "El promedio de área en el barrio San Patricio es: 115.76521739130435\n",
      "El promedio de área en el barrio Barrancas es: 70.2\n",
      "El promedio de área en el barrio Teusaquillo es: 172.5388888888889\n",
      "El promedio de área en el barrio Puente Aranda es: 178.95689655172413\n",
      "El promedio de área en el barrio Chapinero es: 244.72289156626505\n",
      "El promedio de área en el barrio Usme es: 83.90196078431373\n",
      "El promedio de área en el barrio Nueva Zelandia es: 73.73333333333333\n",
      "El promedio de área en el barrio Madelena es: 125.92857142857143\n",
      "El promedio de área en el barrio El Plan es: 89.3225806451613\n",
      "El promedio de área en el barrio Santa Paula es: 115.11538461538461\n",
      "El promedio de área en el barrio Villemar es: 76.88888888888889\n",
      "El promedio de área en el barrio Santa Fe es: 100.81318681318682\n",
      "El promedio de área en el barrio Antonio Nariño es: 163.0625\n",
      "El promedio de área en el barrio La Uribe es: 105.9090909090909\n",
      "El promedio de área en el barrio Los Rosales es: 180.25\n",
      "El promedio de área en el barrio Chapinero Central es: 46.369565217391305\n",
      "El promedio de área en el barrio Los Mártires es: 143.76315789473685\n",
      "El promedio de área en el barrio Bogotá D.C es: 133.78571428571428\n",
      "El promedio de área en el barrio San Cristobal es: 109.21052631578948\n",
      "El promedio de área en el barrio Boyaca  es: 193.35714285714286\n",
      "El promedio de área en el barrio Timiza es: 128.0\n",
      "El promedio de área en el barrio Gran America es: 95.83333333333333\n",
      "El promedio de área en el barrio Costa Azul es: 88.25\n",
      "El promedio de área en el barrio Gran Granada es: 68.61111111111111\n",
      "El promedio de área en el barrio La Salle es: 81.91666666666667\n",
      "El promedio de área en el barrio Portales Del Norte es: 74.91935483870968\n",
      "El promedio de área en el barrio Cantagallo es: 76.08510638297872\n",
      "El promedio de área en el barrio Ciudad Berna es: 213.0\n",
      "El promedio de área en el barrio Villas De Granada es: 86.5909090909091\n",
      "El promedio de área en el barrio Santa Teresa es: 70.6\n",
      "El promedio de área en el barrio Eduardo Santos es: 161.5\n",
      "El promedio de área en el barrio Pasadena  es: 107.23809523809524\n",
      "El promedio de área en el barrio Florida Blanca es: 104.0\n",
      "El promedio de área en el barrio Metropolis es: 85.66666666666667\n",
      "El promedio de área en el barrio Galicia es: 112.2\n",
      "El promedio de área en el barrio Villa Maria es: 207.15384615384616\n",
      "El promedio de área en el barrio Puente Largo es: 140.23333333333332\n",
      "El promedio de área en el barrio La Estancia es: 65.6\n",
      "El promedio de área en el barrio Sotavento es: 77.0\n",
      "El promedio de área en el barrio Bosque De Pinos es: 127.66666666666667\n",
      "El promedio de área en el barrio Florencia es: 58.0\n",
      "El promedio de área en el barrio Bochica es: 134.25\n",
      "El promedio de área en el barrio Tunjuelito es: 217.0\n",
      "El promedio de área en el barrio El Salitre es: 236.4\n",
      "El promedio de área en el barrio La Granja es: 53.6\n",
      "El promedio de área en el barrio La Soledad  es: 378.625\n",
      "El promedio de área en el barrio Santa Ana es: 309.375\n",
      "El promedio de área en el barrio Capellania es: 173.3\n",
      "El promedio de área en el barrio Bellavista Occidental es: 286.2\n",
      "El promedio de área en el barrio Alhambra es: 190.41176470588235\n",
      "El promedio de área en el barrio Veraguas es: 302.6666666666667\n",
      "El promedio de área en el barrio El Retiro es: 214.57894736842104\n",
      "El promedio de área en el barrio El Refugio es: 210.625\n",
      "El promedio de área en el barrio Pontevedra  es: 159.66666666666666\n",
      "El promedio de área en el barrio Lagos De Cordoba es: 122.6875\n",
      "El promedio de área en el barrio Parque Central Bavaria es: 69.0\n",
      "El promedio de área en el barrio San Luis es: 180.66666666666666\n",
      "El promedio de área en el barrio Quinta Camacho es: 266.85714285714283\n",
      "El promedio de área en el barrio Nueva Autopista es: 148.5\n",
      "El promedio de área en el barrio Casablanca es: 136.5\n",
      "El promedio de área en el barrio Las Nieves es: 157.75675675675674\n",
      "El promedio de área en el barrio La Macarena es: 37.0\n",
      "El promedio de área en el barrio Bosque Popular es: 197.2\n",
      "El promedio de área en el barrio Ciudadela Colsubsidio es: 78.42857142857143\n",
      "El promedio de área en el barrio San Antonio Norte es: 71.6\n",
      "El promedio de área en el barrio Chapinero Alto es: 120.57142857142857\n",
      "El promedio de área en el barrio Salitre  es: 107.9090909090909\n",
      "El promedio de área en el barrio Chico Navarra es: 250.58333333333334\n",
      "El promedio de área en el barrio Buenos Aires es: 50.0\n",
      "El promedio de área en el barrio Ricaurte es: 167.8\n",
      "El promedio de área en el barrio Restrepo es: 336.5\n",
      "El promedio de área en el barrio Las Aguas es: 61.0\n",
      "El promedio de área en el barrio Chico Norte Ii es: 87.33333333333333\n",
      "El promedio de área en el barrio Niza es: 163.52631578947367\n",
      "El promedio de área en el barrio Pinar De Suba es: 71.36363636363636\n",
      "El promedio de área en el barrio Estrada es: 210.0\n",
      "El promedio de área en el barrio El Virrey es: 93.83333333333333\n",
      "El promedio de área en el barrio Colinas De Suba es: 80.0\n",
      "El promedio de área en el barrio Gustavo Restrepo es: 54.0\n",
      "El promedio de área en el barrio Nueva Castilla es: 62.333333333333336\n",
      "El promedio de área en el barrio Quirigua es: 155.375\n",
      "El promedio de área en el barrio Los Lagartos es: 86.33333333333333\n",
      "El promedio de área en el barrio Bosa Porvenir es: 42.0\n",
      "El promedio de área en el barrio Bosa Piamonte es: 400.0\n",
      "El promedio de área en el barrio Andes Norte es: 124.85714285714286\n",
      "El promedio de área en el barrio Venecia es: 156.5\n",
      "El promedio de área en el barrio La Merced es: 41.0\n",
      "El promedio de área en el barrio San Diego es: 40.666666666666664\n",
      "El promedio de área en el barrio Libertador es: 642.0\n",
      "El promedio de área en el barrio Las Ferias es: 320.0\n",
      "El promedio de área en el barrio Santa Librada es: 328.0\n",
      "El promedio de área en el barrio Galerias es: 132.0\n",
      "El promedio de área en el barrio Gratamira es: 150.5\n",
      "El promedio de área en el barrio Alameda es: 97.0\n",
      "El promedio de área en el barrio San Cipriano es: 62.0\n",
      "El promedio de área en el barrio Cerros De Suba es: 212.0\n",
      "El promedio de área en el barrio Quiroga es: 212.5\n",
      "El promedio de área en el barrio Roma es: 260.0\n",
      "El promedio de área en el barrio La Estanzuela es: 46.0\n",
      "El promedio de área en el barrio La Sabana es: 130.0\n",
      "El promedio de área en el barrio Patio Bonito es: 72.0\n",
      "El promedio de área en el barrio Turingia es: 68.5\n",
      "El promedio de área en el barrio Las Cruces es: 45.0\n",
      "El promedio de área en el barrio Lago De Suba es: 87.0\n",
      "El promedio de área en el barrio Zona Franca es: 54.0\n",
      "El promedio de área en el barrio Ingles es: 80.0\n",
      "El promedio de área en el barrio El Castillo es: 134.25\n",
      "El promedio de área en el barrio Las Delicias es: 276.3333333333333\n",
      "El promedio de área en el barrio Verbenal es: 43.0\n",
      "El promedio de área en el barrio El Tunal es: 41.0\n",
      "El promedio de área en el barrio Santa Maria Del Lago es: 117.0\n",
      "El promedio de área en el barrio El Progreso es: 86.5\n",
      "El promedio de área en el barrio Prado Veraniego es: 25.0\n"
     ]
    }
   ],
   "source": [
    "promedios_por_barrio = {}\n",
    "\n",
    "# Iterar sobre los barrios únicos en tus datos\n",
    "barrios_unicos = df['Barrio'].unique()\n",
    "for barrio in barrios_unicos:\n",
    "    # Filtrar el DataFrame por el barrio actual\n",
    "    df_barrio = df[df['Barrio'] == barrio]\n",
    "    \n",
    "    # Calcular el promedio del área para ese barrio y almacenarlo en el diccionario\n",
    "    promedio_area = df_barrio['Area'].mean()\n",
    "    promedios_por_barrio[barrio] = promedio_area\n",
    "\n",
    "# Ahora, promedios_por_barrio contiene los promedios de área para cada barrio\n",
    "for barrio, promedio in promedios_por_barrio.items():\n",
    "    print(f'El promedio de área en el barrio {barrio} es: {promedio}')"
   ]
  },
  {
   "cell_type": "code",
   "execution_count": 31,
   "metadata": {},
   "outputs": [],
   "source": [
    "import matplotlib.pyplot as plt"
   ]
  },
  {
   "cell_type": "code",
   "execution_count": 33,
   "metadata": {},
   "outputs": [
    {
     "data": {
      "image/png": "[encoded data removed]",
      "text/plain": [
       "<Figure size 864x432 with 1 Axes>"
      ]
     },
     "metadata": {
      "needs_background": "light"
     },
     "output_type": "display_data"
    }
   ],
   "source": [
    "# Convertir el diccionario en un DataFrame\n",
    "df_promedios = pd.DataFrame.from_dict(promedios_por_barrio, orient='index', columns=['Promedio de Área'])\n",
    "\n",
    "# Ordenar el DataFrame por los valores del promedio\n",
    "df_promedios = df_promedios.sort_values(by='Promedio de Área', ascending=False).head(10)\n",
    "\n",
    "# Crear el gráfico de barras\n",
    "plt.figure(figsize=(12, 6))\n",
    "plt.bar(df_promedios.index, df_promedios['Promedio de Área'])\n",
    "plt.xlabel('Barrio')\n",
    "plt.ylabel('Promedio de Área')\n",
    "plt.title('Promedio de Área por Barrio')\n",
    "plt.xticks(rotation=90)  # Rotar las etiquetas del eje x para mayor legibilidad\n",
    "plt.tight_layout()\n",
    "\n",
    "# Mostrar el gráfico\n",
    "plt.show()"
   ]
  },
  {
   "cell_type": "markdown",
   "metadata": {},
   "source": [
    "# Desafio 2"
   ]
  },
  {
   "cell_type": "code",
   "execution_count": null,
   "metadata": {},
   "outputs": [],
   "source": []
  }
 ],
 "metadata": {
  "kernelspec": {
   "display_name": "base",
   "language": "python",
   "name": "python3"
  },
  "language_info": {
   "codemirror_mode": {
    "name": "ipython",
    "version": 3
   },
   "file_extension": ".py",
   "mimetype": "text/x-python",
   "name": "python",
   "nbconvert_exporter": "python",
   "pygments_lexer": "ipython3",
   "version": "3.9.7"
  },
  "orig_nbformat": 4
 },
 "nbformat": 4,
 "nbformat_minor": 2
}
